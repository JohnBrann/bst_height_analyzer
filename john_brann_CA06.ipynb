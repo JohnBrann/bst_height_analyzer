{
 "cells": [
  {
   "cell_type": "markdown",
   "metadata": {},
   "source": [
    "Analyzes the average height of Binary Search Trees (BSTs) built from arrays of randomly generated numbers using a Pseudo-Random Number Generator (PRNG). "
   ]
  },
  {
   "cell_type": "code",
   "execution_count": 18,
   "metadata": {},
   "outputs": [
    {
     "name": "stdout",
     "output_type": "stream",
     "text": [
      "The height of the BST is: 20\n"
     ]
    }
   ],
   "source": [
    "import random\n",
    "\n",
    "# Define the BST class\n",
    "class BST:\n",
    "    def __init__(self, val=None):\n",
    "        self.left = None\n",
    "        self.right = None\n",
    "        self.val = val\n",
    "\n",
    "    def insert(self, val):\n",
    "        if not self.val: # if empty node\n",
    "            self.val = val\n",
    "            return\n",
    "\n",
    "        # if self.val == val:\n",
    "        # need to do something to make sorting stable. For now, we ignore it.\n",
    "\n",
    "        if val <= self.val:\n",
    "            if self.left: # if left link is not null\n",
    "                self.left.insert(val)\n",
    "                return\n",
    "            self.left = BST(val)\n",
    "            return\n",
    "\n",
    "        if self.right:\n",
    "            self.right.insert(val)\n",
    "            return\n",
    "        self.right = BST(val)\n",
    "\n",
    "    # Calculate the height of the BST\n",
    "    def height(self):\n",
    "        if self is None:\n",
    "            return 0\n",
    "        left_height = self.left.height() if self.left else 0\n",
    "        right_height = self.right.height() if self.right else 0\n",
    "        return 1 + max(left_height, right_height)\n",
    "\n",
    "        # Clears all values in BST to allow for another trial\n",
    "    def clear_bst(self):\n",
    "        self.left = None\n",
    "        self.right = None\n",
    "        self.val = None\n",
    "\n",
    "def main():\n",
    "    n = 1000  # Number of elements in the array\n",
    "    random_numbers = [random.randint(1, n) for _ in range(n)]\n",
    "    \n",
    "    # Build the BST from the array\n",
    "    bst = BST(random_numbers[0])\n",
    "    for num in random_numbers[1:]:\n",
    "        bst.insert(num)\n",
    "    \n",
    "    height = bst.height()\n",
    "    print(f\"The height of the BST is: {height}\")\n",
    "\n",
    "if __name__ == \"__main__\":\n",
    "    main()\n"
   ]
  }
 ],
 "metadata": {
  "kernelspec": {
   "display_name": "base",
   "language": "python",
   "name": "python3"
  },
  "language_info": {
   "codemirror_mode": {
    "name": "ipython",
    "version": 3
   },
   "file_extension": ".py",
   "mimetype": "text/x-python",
   "name": "python",
   "nbconvert_exporter": "python",
   "pygments_lexer": "ipython3",
   "version": "3.12.4"
  }
 },
 "nbformat": 4,
 "nbformat_minor": 2
}
